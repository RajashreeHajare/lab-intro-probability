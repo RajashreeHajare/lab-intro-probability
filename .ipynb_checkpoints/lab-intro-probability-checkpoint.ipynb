{
 "cells": [
  {
   "cell_type": "markdown",
   "metadata": {},
   "source": [
    "# Lab | Intro to Probability"
   ]
  },
  {
   "cell_type": "markdown",
   "metadata": {},
   "source": [
    "**Objective**\n",
    "\n",
    "Welcome to this Intro to Probability lab, where we explore decision-making scenarios through the lens of probability and strategic analysis. In the business world, making informed decisions is crucial, especially when faced with uncertainties. This lab focuses on scenarios where probabilistic outcomes play a significant role in shaping strategies and outcomes. Students will engage in exercises that require assessing and choosing optimal paths based on data-driven insights. The goal is to enhance your skills by applying probability concepts to solve real-world problems."
   ]
  },
  {
   "cell_type": "markdown",
   "metadata": {},
   "source": [
    "**Challenge 1**"
   ]
  },
  {
   "cell_type": "markdown",
   "metadata": {},
   "source": [
    "#### Ironhack Airlines \n",
    "\n",
    "Often Airlines sell more tickets than they have seats available, this is called overbooking. Consider the following:\n",
    "- A plane has 450 seats. \n",
    "- Based on historical data we conclude that each individual passenger has a 3% chance of missing it's flight. \n",
    "\n",
    "If the Ironhack Airlines routinely sells 460 tickets, what is the chance that they have a seats for all passenger?"
   ]
  },
  {
   "cell_type": "code",
   "execution_count": 1,
   "metadata": {},
   "outputs": [],
   "source": [
    "import pandas as pd\n",
    "import numpy as np\n",
    "import scipy.stats as st"
   ]
  },
  {
   "cell_type": "code",
   "execution_count": 13,
   "metadata": {},
   "outputs": [
    {
     "name": "stdout",
     "output_type": "stream",
     "text": [
      "0.8800595630623225\n"
     ]
    }
   ],
   "source": [
    "#code here\n",
    "n = 460        # Number of tickets sold\n",
    "p = 0.97       # Probability of showing up\n",
    "seats = 450    # Number of seats available\n",
    "\n",
    "# Binomial to Normal approximation parameters\n",
    "mu = n * p\n",
    "sigma = (n * p * (1 - p)) ** 0.5\n",
    "\n",
    "# correction factor\n",
    "x = seats + 0.5\n",
    "z = (x - mu) / sigma\n",
    "probability = st.norm.cdf(z)\n",
    "\n",
    "print(probability)"
   ]
  },
  {
   "cell_type": "markdown",
   "metadata": {},
   "source": [
    "**Challenge 2**"
   ]
  },
  {
   "cell_type": "markdown",
   "metadata": {},
   "source": [
    "#### Ironhack Call Center "
   ]
  },
  {
   "cell_type": "markdown",
   "metadata": {},
   "source": [
    "Suppose a customer service representative at a call center is handling customer complaints. Consider the following:\n",
    "- The probability of successfully resolving a customer complaint on the first attempt is 0.3. \n",
    "\n",
    "\n",
    "What is the probability that the representative needs to make at least three attempts before successfully resolving a customer complaint?"
   ]
  },
  {
   "cell_type": "code",
   "execution_count": 3,
   "metadata": {},
   "outputs": [
    {
     "name": "stdout",
     "output_type": "stream",
     "text": [
      "probability representative needs atleast 3 attempts:  0.49\n"
     ]
    }
   ],
   "source": [
    "#code here\n",
    "p_customer_complt = 0.3\n",
    "q = 0.7\n",
    "k_unsuccessful_attempt = 3\n",
    "n = 4\n",
    "# Calculate P(X < 3) = Px=1, Px=2\n",
    "#Px=1 = p.(1-p)^1-1\n",
    "#Px=2 = p. (1-p)^2-1\n",
    "\n",
    "P_X_less_than_3 = p_customer_complt + (q * p_customer_complt)\n",
    "\n",
    "P_X_greater_than_3 = 1 - (P_X_less_than_3)\n",
    "print(\"probability representative needs atleast 3 attempts: \", P_X_greater_than_3)"
   ]
  },
  {
   "cell_type": "markdown",
   "metadata": {},
   "source": [
    "**Challenge 3**"
   ]
  },
  {
   "cell_type": "markdown",
   "metadata": {},
   "source": [
    "#### Ironhack Website"
   ]
  },
  {
   "cell_type": "markdown",
   "metadata": {},
   "source": [
    "Consider a scenario related to Ironhack website traffic. Where:\n",
    "- our website takes on average 500 visits per hour.\n",
    "- the website's server is designed to handle up to 550 vists per hour.\n",
    "\n",
    "\n",
    "What is the probability of the website server being overwhelmed?"
   ]
  },
  {
   "cell_type": "code",
   "execution_count": 4,
   "metadata": {},
   "outputs": [
    {
     "data": {
      "text/plain": [
       "0.01289822084039205"
      ]
     },
     "execution_count": 4,
     "metadata": {},
     "output_type": "execute_result"
    }
   ],
   "source": [
    "#code here\n",
    "\n",
    "from scipy.stats import poisson\n",
    "lambda_visits = 500\n",
    "threshold = 550\n",
    "\n",
    "# Calculate P(X <= 550)\n",
    "probability_le_550 = poisson.cdf(threshold, lambda_visits)\n",
    "\n",
    "# Calculate P(X > 550)\n",
    "probability_gt_550 = 1 - probability_le_550\n",
    "\n",
    "probability_gt_550\n"
   ]
  },
  {
   "cell_type": "markdown",
   "metadata": {},
   "source": [
    "What is the probability of being overwhelmed at some point during a day? (consider 24hours)"
   ]
  },
  {
   "cell_type": "code",
   "execution_count": 5,
   "metadata": {},
   "outputs": [
    {
     "name": "stdout",
     "output_type": "stream",
     "text": [
      "The probability of the server being overwhelmed at least once in 24 hours is: 0.2677\n"
     ]
    }
   ],
   "source": [
    "#code here\n",
    "p_hour = 1 - poisson.cdf(threshold, lambda_visits)\n",
    "\n",
    "# probability of being overwhelmed at least once in 24 hours\n",
    "p_day = 1 - (1 - p_hour) ** 24\n",
    "\n",
    "print(f\"The probability of the server being overwhelmed at least once in 24 hours is: {p_day:.4f}\")"
   ]
  },
  {
   "cell_type": "markdown",
   "metadata": {},
   "source": [
    "**Challenge 4**"
   ]
  },
  {
   "cell_type": "markdown",
   "metadata": {},
   "source": [
    "#### Ironhack Helpdesk"
   ]
  },
  {
   "cell_type": "markdown",
   "metadata": {},
   "source": [
    "Consider a scenario related to the time between arrivals of customers at a service desk.\n",
    "\n",
    "On average, a customers arrives every 10minutes.\n",
    "\n",
    "What is the probability that the next customer will arrive within the next 5 minutes?"
   ]
  },
  {
   "cell_type": "code",
   "execution_count": 6,
   "metadata": {},
   "outputs": [
    {
     "name": "stdout",
     "output_type": "stream",
     "text": [
      "The probability of next customer will arrive within 5 minutes is: 0.3935\n"
     ]
    }
   ],
   "source": [
    "# exponential distribution as rate is not constant \n",
    "\n",
    "import math\n",
    "\n",
    "lambda_rate = 1 / 10  \n",
    "t = 5  \n",
    "\n",
    "probability_within_5_minutes = 1 - math.exp(-lambda_rate * t)\n",
    "\n",
    "print(f\"The probability of next customer will arrive within 5 minutes is: {probability_within_5_minutes:.4f}\")"
   ]
  },
  {
   "cell_type": "markdown",
   "metadata": {},
   "source": [
    "If there is no customer for 15minutes, employees can that a 5minutes break.\n",
    "\n",
    "What is the probability an employee taking a break?"
   ]
  },
  {
   "cell_type": "code",
   "execution_count": 7,
   "metadata": {},
   "outputs": [
    {
     "name": "stdout",
     "output_type": "stream",
     "text": [
      "The probability employee can take a break (no customer for 15 minutes) is: 0.2231\n"
     ]
    }
   ],
   "source": [
    "t2 = 15  # time in minutes\n",
    "\n",
    "# Calculate the probability\n",
    "probability_no_customer_15_minutes = math.exp(-lambda_rate * t2)\n",
    "\n",
    "print(f\"The probability employee can take a break (no customer for 15 minutes) is: {probability_no_customer_15_minutes:.4f}\")\n"
   ]
  },
  {
   "cell_type": "markdown",
   "metadata": {},
   "source": [
    "**Challenge 5**"
   ]
  },
  {
   "cell_type": "markdown",
   "metadata": {},
   "source": [
    "The weights of a certain species of birds follow a normal distribution with a mean weight of 150 grams and a standard deviation of 10 grams. \n",
    "\n",
    "- If we randomly select a bird, what is the probability that its weight is between 140 and 160 grams?"
   ]
  },
  {
   "cell_type": "code",
   "execution_count": 8,
   "metadata": {},
   "outputs": [
    {
     "name": "stdout",
     "output_type": "stream",
     "text": [
      "The probability that a bird weighs between 140 grams and 160 grams is: 0.6827\n"
     ]
    }
   ],
   "source": [
    "#code here\n",
    "from scipy.stats import norm\n",
    "#normal distribution\n",
    "mean = 150\n",
    "std = 10\n",
    "#weight between P(sample_mean) = 140 and  P(sample_mean) = 160\n",
    "# zscores\n",
    "z1 = (140 - mean) / std\n",
    "z2 = (160 - mean) / std\n",
    "\n",
    "# Calculate probabilities using the CDF\n",
    "probability_between = norm.cdf(z2) - norm.cdf(z1)\n",
    "\n",
    "print(f\"The probability that a bird weighs between 140 grams and 160 grams is: {probability_between:.4f}\")\n"
   ]
  },
  {
   "cell_type": "markdown",
   "metadata": {},
   "source": [
    "**Challenge 6**"
   ]
  },
  {
   "cell_type": "markdown",
   "metadata": {},
   "source": [
    "If the lifetime (in hours) of a certain electronic component follows an exponential distribution with a mean lifetime of 50 hours, what is the probability that the component fails within the first 30 hours?"
   ]
  },
  {
   "cell_type": "code",
   "execution_count": 9,
   "metadata": {},
   "outputs": [
    {
     "name": "stdout",
     "output_type": "stream",
     "text": [
      "The probability that component fails within first 30 hours: 0.4511883639059735\n"
     ]
    }
   ],
   "source": [
    "#code here\n",
    "mean_lifetime = 50 # in hours\n",
    "t = 30\n",
    "#Prob_fail_first30 = 1 - Prob_pass_first30\n",
    "\n",
    "# mean = 1/lamda_rate\n",
    "\n",
    "probability_failure_within_30_hours = 1 - math.exp(-(1/50) * 30)\n",
    "\n",
    "\n",
    "print(f\"The probability that component fails within first 30 hours: {probability_failure_within_30_hours}\")"
   ]
  },
  {
   "cell_type": "code",
   "execution_count": null,
   "metadata": {},
   "outputs": [],
   "source": []
  },
  {
   "cell_type": "code",
   "execution_count": null,
   "metadata": {},
   "outputs": [],
   "source": []
  }
 ],
 "metadata": {
  "kernelspec": {
   "display_name": "Python 3 (ipykernel)",
   "language": "python",
   "name": "python3"
  },
  "language_info": {
   "codemirror_mode": {
    "name": "ipython",
    "version": 3
   },
   "file_extension": ".py",
   "mimetype": "text/x-python",
   "name": "python",
   "nbconvert_exporter": "python",
   "pygments_lexer": "ipython3",
   "version": "3.11.7"
  }
 },
 "nbformat": 4,
 "nbformat_minor": 4
}
